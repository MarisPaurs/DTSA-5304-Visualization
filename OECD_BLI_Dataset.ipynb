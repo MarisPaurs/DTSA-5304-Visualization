{
 "cells": [
  {
   "attachments": {},
   "cell_type": "markdown",
   "id": "911beebe-3511-49bf-b61a-3ec828f1a608",
   "metadata": {},
   "source": [
    "The raw OECD Better Life Index dataset was obtained from\n",
    "https://stats.oecd.org/Index.aspx?DataSetCode=BLI\n",
    "\n",
    "The Better Life Index aims to involve citizens in the debate on measuring the well-being of societies, and to empower them to become more informed and engaged in the policy-making process that shapes all our lives.\n",
    "\n",
    "#### Brief recap of data, goals, tasks\n",
    "\n",
    "I'm using the data from OECD's Better Life Index. It provides 20 quality of life indicators for 42 countries. Please note that I removed some of the indicators as part of the data wrangling.\n",
    "I tried to create an interactive visualisation where the end user would be able to look at different indicators and see if they are correlated with each other. Using the visualisation, the user can select 3 indicators - one for each dimension - x-axis, y-axis and the colour of the mark.\n",
    "The user selects 3 indicators using the dropdown widgets and the chart updates accordingly.\n",
    "\n",
    "#### Summary of the key elements of the design\n",
    "\n",
    "This is an X and Y axis chart. I chose this so that it would be easier to notice correlated indicators. I'm using 3 dropdown widgets (for X, Y, and Hue) so the user is able to select indicators of interest. Hovering over each datapoint gives the information about that datapoint - the name of the country and the values for the 3 respective indicators. This design provides the user with flexibility because it enables them to select any indicator of their choice and place it on either x, y or hue dimensions.\n",
    "\n",
    "#### A discussion of my final evaluation approach\n",
    "\n",
    "I demonstrated the visualisation to my girlfriend \n",
    "\n",
    "#### Synthesis of my findings\n",
    "\n",
    "\n",
    "\n",
    "\n"
   ]
  },
  {
   "cell_type": "markdown",
   "id": "8ddeea9a-2f6f-415f-aa7b-266861b3baac",
   "metadata": {},
   "source": [
    "### Reading in data, cleaning it up and transforming it into wide format"
   ]
  },
  {
   "cell_type": "code",
   "execution_count": 43,
   "id": "e14e40cd-0f9f-4656-9a11-7cb3abcab256",
   "metadata": {},
   "outputs": [],
   "source": [
    "# Getting all needed libraries\n",
    "import ipywidgets as widgets\n",
    "from IPython.display import display\n",
    "import altair as alt\n",
    "import pandas as pd\n",
    "\n",
    "# reading in data\n",
    "data_long = pd.read_csv(\"OECD_Better_Life_Index_Stripped.csv\")\n",
    "\n",
    "# To simplify analysis, let's only leave rows that have Total in the Inequality column. For simplicity, not breaking down data by gender.\n",
    "data_filtered_1 = data_long[data_long['Inequality'] == 'Total']\n",
    "\n",
    "# Now let's get rid of the Inequality column\n",
    "data_filtered_2 = data_filtered_1.drop(columns=['Inequality'])\n",
    "\n",
    "# Now let's pivot the table to a wide table\n",
    "data_wide = data_filtered_2.pivot_table(\n",
    "    index='Country', \n",
    "    columns=['Indicator', 'Unit'], \n",
    "    values='Value'\n",
    ").reset_index()\n",
    "\n",
    "# Removing columns that we will not include in the analysis because they are a little too vague due to their subjectivity.\n",
    "data_wide = data_wide.drop(columns='Self-reported health', level='Indicator')\n",
    "data_wide = data_wide.drop(columns='Stakeholder engagement for developing regulations', level='Indicator')\n",
    "data_wide = data_wide.drop(columns='Time devoted to leisure and personal care', level='Indicator')\n",
    "data_wide = data_wide.drop(columns='Quality of support network', level='Indicator')\n",
    "#data_wide.head()\n",
    "#data_wide.info()\n",
    "# putting data_wide into data\n",
    "data = data_wide"
   ]
  },
  {
   "cell_type": "markdown",
   "id": "41df6204-f87e-40c2-bd02-3d0867d86a69",
   "metadata": {},
   "source": [
    "### Creating the visualisation"
   ]
  },
  {
   "cell_type": "code",
   "execution_count": 44,
   "id": "1df02614-c53a-49de-944f-1d2bc145df6f",
   "metadata": {},
   "outputs": [
    {
     "data": {
      "application/vnd.jupyter.widget-view+json": {
       "model_id": "b2fa3d0fb5144c819a361d3ffcb62dbb",
       "version_major": 2,
       "version_minor": 0
      },
      "text/plain": [
       "VBox(children=(Output(), Dropdown(description='X-axis:', options=('Air pollution Micrograms per cubic metre', …"
      ]
     },
     "execution_count": 44,
     "metadata": {},
     "output_type": "execute_result"
    }
   ],
   "source": [
    "# Getting rid of the 2 index column headings and turning it into a single heading for each column as an indicator and its unit.\n",
    "data.columns = [' '.join(col).strip() for col in data.columns]\n",
    "\n",
    "# Getting each indicator (and its units)\n",
    "indicators = [col for col in data.columns if 'Country' not in col]\n",
    "\n",
    "# Creating three dropdown widgets for the x-axis, y-axis and hue (z-axis) indicator selections\n",
    "dropdown_x = widgets.Dropdown(\n",
    "    options=indicators,\n",
    "    value=indicators[0],  # default value, ensure it's different from x-axis\n",
    "    description='X-axis:'\n",
    ")\n",
    "\n",
    "dropdown_y = widgets.Dropdown(\n",
    "    options=indicators,\n",
    "    value=indicators[1],  # default value, ensure it's different from x-axis\n",
    "    description='Y-axis:'\n",
    ")\n",
    "\n",
    "dropdown_z = widgets.Dropdown(\n",
    "    options=indicators,\n",
    "    value=indicators[2], # default value to ensure it is different from the other 2 axis\n",
    "    description='Colour Hue:'\n",
    ")\n",
    "\n",
    "# Function to create the chart based on selected indicators\n",
    "def create_chart(x_indicator, y_indicator, z_indicator):\n",
    "    chart = alt.Chart(data).mark_circle(\n",
    "        size=90  # increasing the size of circles for better visibility\n",
    "    ).encode(\n",
    "        x=alt.X(x_indicator, type='quantitative', title=x_indicator,\n",
    "               axis=alt.Axis(labels=True, labelColor='blue', titleColor='rgb(117, 38, 4)', titleFontSize=15)),\n",
    "        y=alt.Y(y_indicator, type='quantitative', title=y_indicator,\n",
    "               axis=alt.Axis(labels=True, labelColor='blue', titleColor='rgb(117, 38, 4)', titleFontSize=15)),\n",
    "        color=alt.Color(z_indicator, type='quantitative', title=z_indicator, \n",
    "                        scale=alt.Scale(scheme='reds'),  # Maybe there could be a better color scheme for displaying ordinal data...\n",
    "                        legend=alt.Legend(title=\"Hue: \" + z_indicator, titleColor='rgb(117, 38, 4)', titleFontSize=14, orient='right')),\n",
    "        tooltip=['Country:N', alt.Tooltip(x_indicator), alt.Tooltip(y_indicator), alt.Tooltip(z_indicator)]\n",
    "    ).properties(\n",
    "        width=700,\n",
    "        height=400,\n",
    "        title=f\"OECD Better Life Index Comparison of {y_indicator} vs {x_indicator} vs {z_indicator}\"\n",
    "    )\n",
    "    return chart\n",
    "\n",
    "# Initially displaying the chart with the default (first 3) indicators\n",
    "current_chart = create_chart(dropdown_x.value, dropdown_y.value, dropdown_z.value)\n",
    "\n",
    "# Function to update the chart, this function is called every time any dropdown's value changes\n",
    "def update_chart(change):\n",
    "    # Clear the previous chart\n",
    "    display_container.clear_output(wait=True)\n",
    "    # Create a new chart with the new indicators\n",
    "    new_chart = create_chart(dropdown_x.value, dropdown_y.value, dropdown_z.value)\n",
    "    # Display the new chart\n",
    "    with display_container:\n",
    "        display(new_chart)\n",
    "\n",
    "# Observing changes in the dropdown values\n",
    "dropdown_x.observe(update_chart, names='value')\n",
    "dropdown_y.observe(update_chart, names='value')\n",
    "dropdown_z.observe(update_chart, names='value')\n",
    "\n",
    "# Creating a container for displaying the chart\n",
    "display_container = widgets.Output()\n",
    "with display_container:\n",
    "    display(current_chart)\n",
    "\n",
    "# Arrange the dropdowns and chart vertically\n",
    "widgets.VBox([display_container, dropdown_x, dropdown_y, dropdown_z])\n"
   ]
  }
 ],
 "metadata": {
  "kernelspec": {
   "display_name": "Python 3 (ipykernel)",
   "language": "python",
   "name": "python3"
  },
  "language_info": {
   "codemirror_mode": {
    "name": "ipython",
    "version": 3
   },
   "file_extension": ".py",
   "mimetype": "text/x-python",
   "name": "python",
   "nbconvert_exporter": "python",
   "pygments_lexer": "ipython3",
   "version": "3.9.18"
  }
 },
 "nbformat": 4,
 "nbformat_minor": 5
}
